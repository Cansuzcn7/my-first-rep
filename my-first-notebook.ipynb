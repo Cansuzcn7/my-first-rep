{
 "cells": [
  {
   "cell_type": "code",
   "execution_count": 6,
   "id": "d0b9b308-6bd8-45c4-ad99-d7af011d566f",
   "metadata": {},
   "outputs": [],
   "source": [
    "from numbers import Number\n",
    "\n",
    "def add(a: Number, b: Number) -> Number:\n",
    "    return a + b"
   ]
  },
  {
   "cell_type": "code",
   "execution_count": 7,
   "id": "c189ecfe-a499-489a-8288-8016fe768a08",
   "metadata": {},
   "outputs": [],
   "source": [
    "import ipytest\n",
    "ipytest.autoconfig()"
   ]
  },
  {
   "cell_type": "code",
   "execution_count": 10,
   "id": "6a1b43ad-5f7f-4c2d-8271-760f84b1b7ea",
   "metadata": {},
   "outputs": [],
   "source": [
    "def test_add_simple():\n",
    "    assert add(1,2)  > 3"
   ]
  },
  {
   "cell_type": "code",
   "execution_count": 11,
   "id": "89f13fcb-070c-443c-bc8b-248d9047441e",
   "metadata": {},
   "outputs": [
    {
     "name": "stdout",
     "output_type": "stream",
     "text": [
      "\u001b[1m======================================= test session starts =======================================\u001b[0m\n",
      "platform win32 -- Python 3.11.10, pytest-8.3.3, pluggy-1.5.0 -- C:\\Users\\user\\miniconda3\\envs\\bw25\\python.exe\n",
      "cachedir: .pytest_cache\n",
      "rootdir: C:\\Users\\user\\Documents\\GitHub\\my-first-rep\n",
      "plugins: anyio-4.6.2.post1\n",
      "\u001b[1mcollecting ... \u001b[0mcollected 1 item\n",
      "\n",
      "t_3ae18aa04cc847c4b8e119ec858c6e9d.py::test_add_simple \u001b[31mFAILED\u001b[0m\u001b[31m                                [100%]\u001b[0m\n",
      "\n",
      "============================================ FAILURES =============================================\n",
      "\u001b[31m\u001b[1m_________________________________________ test_add_simple _________________________________________\u001b[0m\n",
      "\n",
      "    \u001b[0m\u001b[94mdef\u001b[39;49;00m \u001b[92mtest_add_simple\u001b[39;49;00m():\u001b[90m\u001b[39;49;00m\n",
      ">       \u001b[94massert\u001b[39;49;00m add(\u001b[94m1\u001b[39;49;00m,\u001b[94m2\u001b[39;49;00m)  > \u001b[94m3\u001b[39;49;00m\u001b[90m\u001b[39;49;00m\n",
      "\u001b[1m\u001b[31mE       assert 3 > 3\u001b[0m\n",
      "\u001b[1m\u001b[31mE        +  where 3 = add(1, 2)\u001b[0m\n",
      "\n",
      "\u001b[1m\u001b[31mC:\\Users\\user\\AppData\\Local\\Temp\\ipykernel_16512\\1189553766.py\u001b[0m:2: AssertionError\n",
      "\u001b[36m\u001b[1m===================================== short test summary info =====================================\u001b[0m\n",
      "\u001b[31mFAILED\u001b[0m t_3ae18aa04cc847c4b8e119ec858c6e9d.py::\u001b[1mtest_add_simple\u001b[0m - assert 3 > 3\n",
      "\u001b[31m======================================== \u001b[31m\u001b[1m1 failed\u001b[0m\u001b[31m in 0.43s\u001b[0m\u001b[31m ========================================\u001b[0m\n"
     ]
    },
    {
     "data": {
      "text/plain": [
       "<ExitCode.TESTS_FAILED: 1>"
      ]
     },
     "execution_count": 11,
     "metadata": {},
     "output_type": "execute_result"
    }
   ],
   "source": [
    "ipytest.run('-vv')"
   ]
  },
  {
   "cell_type": "code",
   "execution_count": 12,
   "id": "4d299177-67fc-4661-a24c-46bf6eeef711",
   "metadata": {},
   "outputs": [],
   "source": [
    "def multiplication_func(a: Number, b: Number) -> Number:\n",
    "    return a * b    "
   ]
  },
  {
   "cell_type": "code",
   "execution_count": 17,
   "id": "765debc5-a79b-4bff-9ceb-40212eb3d500",
   "metadata": {},
   "outputs": [],
   "source": [
    "def test_multiplication_func():\n",
    "    assert multiplication_func(3, 3) == 9"
   ]
  },
  {
   "cell_type": "code",
   "execution_count": 18,
   "id": "6151b9e7-48c8-458b-ac77-217970ac8ec6",
   "metadata": {},
   "outputs": [
    {
     "name": "stdout",
     "output_type": "stream",
     "text": [
      "\u001b[1m======================================= test session starts =======================================\u001b[0m\n",
      "platform win32 -- Python 3.11.10, pytest-8.3.3, pluggy-1.5.0 -- C:\\Users\\user\\miniconda3\\envs\\bw25\\python.exe\n",
      "cachedir: .pytest_cache\n",
      "rootdir: C:\\Users\\user\\Documents\\GitHub\\my-first-rep\n",
      "plugins: anyio-4.6.2.post1\n",
      "\u001b[1mcollecting ... \u001b[0mcollected 2 items\n",
      "\n",
      "t_3ae18aa04cc847c4b8e119ec858c6e9d.py::test_add_simple \u001b[31mFAILED\u001b[0m\u001b[31m                                [ 50%]\u001b[0m\n",
      "t_3ae18aa04cc847c4b8e119ec858c6e9d.py::test_multiplication_func \u001b[32mPASSED\u001b[0m\u001b[31m                       [100%]\u001b[0m\n",
      "\n",
      "============================================ FAILURES =============================================\n",
      "\u001b[31m\u001b[1m_________________________________________ test_add_simple _________________________________________\u001b[0m\n",
      "\n",
      "    \u001b[0m\u001b[94mdef\u001b[39;49;00m \u001b[92mtest_add_simple\u001b[39;49;00m():\u001b[90m\u001b[39;49;00m\n",
      ">       \u001b[94massert\u001b[39;49;00m add(\u001b[94m1\u001b[39;49;00m,\u001b[94m2\u001b[39;49;00m)  > \u001b[94m3\u001b[39;49;00m\u001b[90m\u001b[39;49;00m\n",
      "\u001b[1m\u001b[31mE       assert 3 > 3\u001b[0m\n",
      "\u001b[1m\u001b[31mE        +  where 3 = add(1, 2)\u001b[0m\n",
      "\n",
      "\u001b[1m\u001b[31mC:\\Users\\user\\AppData\\Local\\Temp\\ipykernel_16512\\1189553766.py\u001b[0m:2: AssertionError\n",
      "\u001b[36m\u001b[1m===================================== short test summary info =====================================\u001b[0m\n",
      "\u001b[31mFAILED\u001b[0m t_3ae18aa04cc847c4b8e119ec858c6e9d.py::\u001b[1mtest_add_simple\u001b[0m - assert 3 > 3\n",
      "\u001b[31m=================================== \u001b[31m\u001b[1m1 failed\u001b[0m, \u001b[32m1 passed\u001b[0m\u001b[31m in 0.04s\u001b[0m\u001b[31m ===================================\u001b[0m\n"
     ]
    },
    {
     "data": {
      "text/plain": [
       "<ExitCode.TESTS_FAILED: 1>"
      ]
     },
     "execution_count": 18,
     "metadata": {},
     "output_type": "execute_result"
    }
   ],
   "source": [
    "ipytest.run('-vv')"
   ]
  },
  {
   "cell_type": "code",
   "execution_count": 19,
   "id": "b3ec5cf8-4ae7-4a22-9fcf-73ae08d2c9cb",
   "metadata": {},
   "outputs": [
    {
     "ename": "TypeError",
     "evalue": "unsupported operand type(s) for +: 'int' and 'str'",
     "output_type": "error",
     "traceback": [
      "\u001b[1;31m---------------------------------------------------------------------------\u001b[0m",
      "\u001b[1;31mTypeError\u001b[0m                                 Traceback (most recent call last)",
      "Cell \u001b[1;32mIn[19], line 1\u001b[0m\n\u001b[1;32m----> 1\u001b[0m \u001b[43madd\u001b[49m\u001b[43m(\u001b[49m\u001b[38;5;241;43m1\u001b[39;49m\u001b[43m,\u001b[49m\u001b[43m \u001b[49m\u001b[38;5;124;43m'\u001b[39;49m\u001b[38;5;124;43mtwo\u001b[39;49m\u001b[38;5;124;43m'\u001b[39;49m\u001b[43m)\u001b[49m\n",
      "Cell \u001b[1;32mIn[6], line 4\u001b[0m, in \u001b[0;36madd\u001b[1;34m(a, b)\u001b[0m\n\u001b[0;32m      3\u001b[0m \u001b[38;5;28;01mdef\u001b[39;00m \u001b[38;5;21madd\u001b[39m(a: Number, b: Number) \u001b[38;5;241m-\u001b[39m\u001b[38;5;241m>\u001b[39m Number:\n\u001b[1;32m----> 4\u001b[0m     \u001b[38;5;28;01mreturn\u001b[39;00m \u001b[43ma\u001b[49m\u001b[43m \u001b[49m\u001b[38;5;241;43m+\u001b[39;49m\u001b[43m \u001b[49m\u001b[43mb\u001b[49m\n",
      "\u001b[1;31mTypeError\u001b[0m: unsupported operand type(s) for +: 'int' and 'str'"
     ]
    }
   ],
   "source": [
    "add(1, 'two')"
   ]
  },
  {
   "cell_type": "code",
   "execution_count": 25,
   "id": "3a808e43-708b-40b6-b52d-f6ff189779f1",
   "metadata": {},
   "outputs": [],
   "source": [
    "import pytest  # underlying library of the ipytest which is developed for jupyter notebook\n",
    "def test_raise_error():\n",
    "    with pytest.raises(TypeError):\n",
    "        add(1, 'two')"
   ]
  },
  {
   "cell_type": "code",
   "execution_count": 26,
   "id": "bc6a1ac8-fca4-4985-b628-824f50776ca8",
   "metadata": {},
   "outputs": [
    {
     "name": "stdout",
     "output_type": "stream",
     "text": [
      "\u001b[1m======================================= test session starts =======================================\u001b[0m\n",
      "platform win32 -- Python 3.11.10, pytest-8.3.3, pluggy-1.5.0 -- C:\\Users\\user\\miniconda3\\envs\\bw25\\python.exe\n",
      "cachedir: .pytest_cache\n",
      "rootdir: C:\\Users\\user\\Documents\\GitHub\\my-first-rep\n",
      "plugins: anyio-4.6.2.post1\n",
      "\u001b[1mcollecting ... \u001b[0mcollected 3 items\n",
      "\n",
      "t_3ae18aa04cc847c4b8e119ec858c6e9d.py::test_add_simple \u001b[31mFAILED\u001b[0m\u001b[31m                                [ 33%]\u001b[0m\n",
      "t_3ae18aa04cc847c4b8e119ec858c6e9d.py::test_multiplication_func \u001b[32mPASSED\u001b[0m\u001b[31m                       [ 66%]\u001b[0m\n",
      "t_3ae18aa04cc847c4b8e119ec858c6e9d.py::test_raise_error \u001b[32mPASSED\u001b[0m\u001b[31m                               [100%]\u001b[0m\n",
      "\n",
      "============================================ FAILURES =============================================\n",
      "\u001b[31m\u001b[1m_________________________________________ test_add_simple _________________________________________\u001b[0m\n",
      "\n",
      "    \u001b[0m\u001b[94mdef\u001b[39;49;00m \u001b[92mtest_add_simple\u001b[39;49;00m():\u001b[90m\u001b[39;49;00m\n",
      ">       \u001b[94massert\u001b[39;49;00m add(\u001b[94m1\u001b[39;49;00m,\u001b[94m2\u001b[39;49;00m)  > \u001b[94m3\u001b[39;49;00m\u001b[90m\u001b[39;49;00m\n",
      "\u001b[1m\u001b[31mE       assert 3 > 3\u001b[0m\n",
      "\u001b[1m\u001b[31mE        +  where 3 = add(1, 2)\u001b[0m\n",
      "\n",
      "\u001b[1m\u001b[31mC:\\Users\\user\\AppData\\Local\\Temp\\ipykernel_16512\\1189553766.py\u001b[0m:2: AssertionError\n",
      "\u001b[36m\u001b[1m===================================== short test summary info =====================================\u001b[0m\n",
      "\u001b[31mFAILED\u001b[0m t_3ae18aa04cc847c4b8e119ec858c6e9d.py::\u001b[1mtest_add_simple\u001b[0m - assert 3 > 3\n",
      "\u001b[31m=================================== \u001b[31m\u001b[1m1 failed\u001b[0m, \u001b[32m2 passed\u001b[0m\u001b[31m in 0.04s\u001b[0m\u001b[31m ===================================\u001b[0m\n"
     ]
    },
    {
     "data": {
      "text/plain": [
       "<ExitCode.TESTS_FAILED: 1>"
      ]
     },
     "execution_count": 26,
     "metadata": {},
     "output_type": "execute_result"
    }
   ],
   "source": [
    "ipytest.run('-vv')"
   ]
  },
  {
   "cell_type": "code",
   "execution_count": null,
   "id": "ab09dcf7-46be-4bf6-b47c-dd0375ccc6e5",
   "metadata": {},
   "outputs": [],
   "source": []
  }
 ],
 "metadata": {
  "kernelspec": {
   "display_name": "Python 3 (ipykernel)",
   "language": "python",
   "name": "python3"
  },
  "language_info": {
   "codemirror_mode": {
    "name": "ipython",
    "version": 3
   },
   "file_extension": ".py",
   "mimetype": "text/x-python",
   "name": "python",
   "nbconvert_exporter": "python",
   "pygments_lexer": "ipython3",
   "version": "3.11.10"
  }
 },
 "nbformat": 4,
 "nbformat_minor": 5
}
