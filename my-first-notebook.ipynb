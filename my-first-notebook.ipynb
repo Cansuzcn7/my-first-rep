{
 "cells": [
  {
   "cell_type": "markdown",
   "id": "40ad812c-9108-444a-87af-4b99b05326ed",
   "metadata": {},
   "source": [
    "Hey everybody!"
   ]
  },
  {
   "cell_type": "code",
   "execution_count": 1,
   "id": "deb9d2d7-2a14-4558-8b2f-c51ed0bad88c",
   "metadata": {},
   "outputs": [
    {
     "name": "stdout",
     "output_type": "stream",
     "text": [
      "1\n"
     ]
    }
   ],
   "source": [
    "a = 1\n",
    "print(a)"
   ]
  },
  {
   "cell_type": "code",
   "execution_count": null,
   "id": "93c69c95-e911-4555-9b81-058f348bd40e",
   "metadata": {},
   "outputs": [],
   "source": []
  }
 ],
 "metadata": {
  "kernelspec": {
   "display_name": "Python 3 (ipykernel)",
   "language": "python",
   "name": "python3"
  },
  "language_info": {
   "codemirror_mode": {
    "name": "ipython",
    "version": 3
   },
   "file_extension": ".py",
   "mimetype": "text/x-python",
   "name": "python",
   "nbconvert_exporter": "python",
   "pygments_lexer": "ipython3",
   "version": "3.11.10"
  }
 },
 "nbformat": 4,
 "nbformat_minor": 5
}
